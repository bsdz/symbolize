{
 "cells": [
  {
   "cell_type": "code",
   "execution_count": 1,
   "metadata": {},
   "outputs": [],
   "source": [
    "import sys\n",
    "sys.path.insert(1, \"../..\")\n",
    "from symbolize.logic.argument import Argument\n",
    "from symbolize.logic.typetheory.proposition import implies, ImpliesPropositionExpression, not_\n",
    "from symbolize.logic.typetheory.variables import A, B, C, Falsum\n",
    "\n",
    "from symbolize.expressions import Expression, Symbol\n",
    "Expression.jupyter_repr_html_function = lambda self: \"%s\" % self.repr_unicode()"
   ]
  },
  {
   "cell_type": "code",
   "execution_count": 2,
   "metadata": {},
   "outputs": [],
   "source": [
    "A_implies_B = implies(A, B)\n",
    "B_implies_C = implies(B, C)\n",
    "a = A_implies_B.get_proof('a')\n",
    "b = B_implies_C.get_proof('b')\n",
    "x = A.get_proof('x')"
   ]
  },
  {
   "cell_type": "code",
   "execution_count": 3,
   "metadata": {},
   "outputs": [
    {
     "data": {
      "text/html": [
       "a : A ⟹ B"
      ],
      "text/latex": [
       "$$a : A \\Rightarrow B$$"
      ],
      "text/plain": [
       "a : ⟹(A, B)"
      ]
     },
     "execution_count": 3,
     "metadata": {},
     "output_type": "execute_result"
    }
   ],
   "source": [
    "a"
   ]
  },
  {
   "cell_type": "code",
   "execution_count": 4,
   "metadata": {},
   "outputs": [
    {
     "data": {
      "text/html": [
       "b : B ⟹ C"
      ],
      "text/latex": [
       "$$b : B \\Rightarrow C$$"
      ],
      "text/plain": [
       "b : ⟹(B, C)"
      ]
     },
     "execution_count": 4,
     "metadata": {},
     "output_type": "execute_result"
    }
   ],
   "source": [
    "b"
   ]
  },
  {
   "cell_type": "code",
   "execution_count": 5,
   "metadata": {},
   "outputs": [
    {
     "data": {
      "text/html": [
       "x : A"
      ],
      "text/latex": [
       "$$x : A$$"
      ],
      "text/plain": [
       "x : A"
      ]
     },
     "execution_count": 5,
     "metadata": {},
     "output_type": "execute_result"
    }
   ],
   "source": [
    "x"
   ]
  },
  {
   "cell_type": "code",
   "execution_count": 6,
   "metadata": {},
   "outputs": [
    {
     "data": {
      "text/html": [
       "<table>\n",
       "        <tr><td style=\"border-bottom: 1px solid black !important;\"><table>\n",
       "        <tr><td style=\"valign='bottom';\"><table>\n",
       "        <tr><td style=\"border-bottom: 1px solid black !important;\"><table>\n",
       "        <tr><td style=\"valign='bottom';\"><table>\n",
       "        <tr><td style=\"border-bottom: 1px solid black !important;\"><table>\n",
       "        <tr><td style=\"valign='bottom';\">x : A</td><td style=\"vertical-align:bottom\">a : A ⟹ B</td></tr>\n",
       "        </table></td></tr>\n",
       "        <tr><td style='text-align:center;background-color:white'>a(x) : B</td></tr>\n",
       "        </table></td><td style=\"vertical-align:bottom\">b : B ⟹ C</td></tr>\n",
       "        </table></td></tr>\n",
       "        <tr><td style='text-align:center;background-color:white'>b(a(x)) : C</td></tr>\n",
       "        </table></td><td style=\"vertical-align:bottom\">x : A</td></tr>\n",
       "        </table></td></tr>\n",
       "        <tr><td style='text-align:center;background-color:white'>λ(a).λ(b).λ(x).(b(a(x))) : (A ⟹ B) ⟹ ((B ⟹ C) ⟹ (A ⟹ C))</td></tr>\n",
       "        </table>"
      ],
      "text/latex": [
       "$$\\frac{\\frac{\\frac{x : A \\quad a : A \\Rightarrow B}{a(x) : B} \\quad b : B \\Rightarrow C}{b(a(x)) : C} \\quad x : A}{\\lambda{}(a).\\lambda{}(b).\\lambda{}(x).(b(a(x))) : (A \\Rightarrow B) \\Rightarrow ((B \\Rightarrow C) \\Rightarrow (A \\Rightarrow C))}$$"
      ],
      "text/plain": [
       "<symbolize.logic.argument.Argument at 0x7f3648484358>"
      ]
     },
     "execution_count": 6,
     "metadata": {},
     "output_type": "execute_result"
    }
   ],
   "source": [
    "arg1 = Argument([x, a], a(x))\n",
    "arg2 = Argument([arg1, b], b(arg1.conclusion))\n",
    "arg3 = Argument([arg2, x], arg2.conclusion.abstract(x))\n",
    "arg4 = Argument([arg2, x], arg3.conclusion.abstract(b))\n",
    "arg5 = Argument([arg2, x], arg4.conclusion.abstract(a))\n",
    "arg5"
   ]
  },
  {
   "cell_type": "code",
   "execution_count": 8,
   "metadata": {},
   "outputs": [
    {
     "data": {
      "text/html": [
       "(A ⟹ B) ⟹ ((B ⟹ ⟘) ⟹ (A ⟹ ⟘))"
      ],
      "text/latex": [
       "$$(A \\Rightarrow B) \\Rightarrow ((B \\Rightarrow ⟘) \\Rightarrow (A \\Rightarrow ⟘))$$"
      ],
      "text/plain": [
       "⟹(⟹(A, B), ⟹(⟹(B, ⟘), ⟹(A, ⟘)))"
      ]
     },
     "execution_count": 8,
     "metadata": {},
     "output_type": "execute_result"
    }
   ],
   "source": [
    "new_type = arg5.conclusion.proposition_type.substitute(C, Falsum).copy()\n",
    "new_type"
   ]
  },
  {
   "cell_type": "code",
   "execution_count": 9,
   "metadata": {},
   "outputs": [
    {
     "name": "stdout",
     "output_type": "stream",
     "text": [
      "ExpressionWalkResult(expr: ⟹; obj: ⟹(⟹(A, B), ⟹(⟹(B, ⟘), ⟹(A, ⟘))); type: ImpliesPropositionSymbol)\n",
      "ExpressionWalkResult(expr: ⟹(A, B); obj: [⟹(A, B), ⟹(⟹(B, ⟘), ⟹(A, ⟘))][0]; type: ImpliesPropositionExpression; parent_type: ImpliesPropositionExpression)\n",
      "ExpressionWalkResult(expr: ⟹; obj: ⟹(A, B); type: ImpliesPropositionSymbol)\n",
      "ExpressionWalkResult(expr: A; obj: [A, B][0]; type: PropositionSymbol; parent_type: ImpliesPropositionExpression)\n",
      "ExpressionWalkResult(expr: B; obj: [A, B][1]; type: PropositionSymbol; parent_type: ImpliesPropositionExpression)\n",
      "ExpressionWalkResult(expr: ⟹(⟹(B, ⟘), ⟹(A, ⟘)); obj: [⟹(A, B), ⟹(⟹(B, ⟘), ⟹(A, ⟘))][1]; type: ImpliesPropositionExpression; parent_type: ImpliesPropositionExpression)\n",
      "ExpressionWalkResult(expr: ⟹; obj: ⟹(⟹(B, ⟘), ⟹(A, ⟘)); type: ImpliesPropositionSymbol)\n",
      "ExpressionWalkResult(expr: ⟹(B, ⟘); obj: [⟹(B, ⟘), ⟹(A, ⟘)][0]; type: ImpliesPropositionExpression; parent_type: ImpliesPropositionExpression)\n",
      "ExpressionWalkResult(expr: ⟹; obj: ⟹(B, ⟘); type: ImpliesPropositionSymbol)\n",
      "ExpressionWalkResult(expr: B; obj: [B, ⟘][0]; type: PropositionSymbol; parent_type: ImpliesPropositionExpression)\n",
      "ExpressionWalkResult(expr: ⟘; obj: [B, ⟘][1]; type: PropositionSymbol)\n",
      "ExpressionWalkResult(expr: ⟹(A, ⟘); obj: [⟹(B, ⟘), ⟹(A, ⟘)][1]; type: ImpliesPropositionExpression; parent_type: ImpliesPropositionExpression)\n",
      "ExpressionWalkResult(expr: ⟹; obj: ⟹(A, ⟘); type: ImpliesPropositionSymbol)\n",
      "ExpressionWalkResult(expr: A; obj: [A, ⟘][0]; type: PropositionSymbol; parent_type: ImpliesPropositionExpression)\n",
      "ExpressionWalkResult(expr: ⟘; obj: [A, ⟘][1]; type: PropositionSymbol)\n"
     ]
    }
   ],
   "source": [
    "new_type.walk(print)"
   ]
  },
  {
   "cell_type": "code",
   "execution_count": 10,
   "metadata": {},
   "outputs": [],
   "source": [
    "def my_sub(wr):\n",
    "    if type(wr.expr) is ImpliesPropositionExpression and wr.expr.base == implies and wr.expr.children[1] == Falsum:\n",
    "        wr.obj[wr.index] = not_(wr.expr.children[0])\n",
    "new_type.walk(my_sub)"
   ]
  },
  {
   "cell_type": "code",
   "execution_count": 11,
   "metadata": {},
   "outputs": [
    {
     "data": {
      "text/html": [
       "(A ⟹ B) ⟹ ((¬(B)) ⟹ (¬(A)))"
      ],
      "text/latex": [
       "$$(A \\Rightarrow B) \\Rightarrow ((\\neg(B)) \\Rightarrow (\\neg(A)))$$"
      ],
      "text/plain": [
       "⟹(⟹(A, B), ⟹(¬(B), ¬(A)))"
      ]
     },
     "execution_count": 11,
     "metadata": {},
     "output_type": "execute_result"
    }
   ],
   "source": [
    "new_type"
   ]
  },
  {
   "cell_type": "code",
   "execution_count": 15,
   "metadata": {},
   "outputs": [
    {
     "data": {
      "text/latex": [
       "$$\\frac{\\frac{\\frac{x : A \\quad a : A \\Rightarrow B}{a(x) : B} \\quad b : B \\Rightarrow C}{b(a(x)) : C} \\quad x : A}{\\lambda{}(a).\\lambda{}(b).\\lambda{}(x).(b(a(x))) : (A \\Rightarrow B) \\Rightarrow ((B \\Rightarrow C) \\Rightarrow (A \\Rightarrow C))}$$"
      ],
      "text/plain": [
       "<symbolize.logic.argument.Argument at 0x7f3648484358>"
      ]
     },
     "execution_count": 15,
     "metadata": {},
     "output_type": "execute_result"
    }
   ],
   "source": [
    "Expression.jupyter_repr_html_function = lambda self: None\n",
    "arg5"
   ]
  },
  {
   "cell_type": "code",
   "execution_count": null,
   "metadata": {},
   "outputs": [],
   "source": []
  }
 ],
 "metadata": {
  "kernelspec": {
   "display_name": "lenv-20170702",
   "language": "python",
   "name": "python3"
  },
  "language_info": {
   "codemirror_mode": {
    "name": "ipython",
    "version": 3
   },
   "file_extension": ".py",
   "mimetype": "text/x-python",
   "name": "python",
   "nbconvert_exporter": "python",
   "pygments_lexer": "ipython3",
   "version": "3.6.1+"
  }
 },
 "nbformat": 4,
 "nbformat_minor": 2
}
