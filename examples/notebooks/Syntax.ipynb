{
 "cells": [
  {
   "cell_type": "code",
   "execution_count": 1,
   "metadata": {
    "ExecuteTime": {
     "end_time": "2017-08-26T08:19:08.321848Z",
     "start_time": "2017-08-26T08:19:08.235384Z"
    },
    "collapsed": true,
    "init_cell": true
   },
   "outputs": [],
   "source": [
    "import sys\n",
    "sys.path.insert(1, \"../..\")\n",
    "from symbolize.expressions import *\n",
    "from symbolize.definitions.operators import *\n",
    "from symbolize.definitions.integrals import *\n",
    "from symbolize.definitions.variables import *\n",
    "from symbolize.definitions.logic import *\n",
    "\n",
    "f = Symbol('f(x)')"
   ]
  },
  {
   "cell_type": "code",
   "execution_count": 2,
   "metadata": {
    "ExecuteTime": {
     "end_time": "2017-08-23T19:07:14.515110Z",
     "start_time": "2017-08-23T19:07:14.502525Z"
    }
   },
   "outputs": [
    {
     "data": {
      "text/latex": [
       "$$λ(y).(y + f(x))$$"
      ],
      "text/plain": [
       "(y)+(y, f(x))"
      ]
     },
     "execution_count": 2,
     "metadata": {},
     "output_type": "execute_result"
    }
   ],
   "source": [
    "plus(y, f).abstract(y)"
   ]
  },
  {
   "cell_type": "code",
   "execution_count": 3,
   "metadata": {},
   "outputs": [
    {
     "data": {
      "text/latex": [
       "$$λ(y).x$$"
      ],
      "text/plain": [
       "(y)x"
      ]
     },
     "execution_count": 3,
     "metadata": {},
     "output_type": "execute_result"
    }
   ],
   "source": [
    "x.abstract(y)"
   ]
  },
  {
   "cell_type": "code",
   "execution_count": 4,
   "metadata": {
    "ExecuteTime": {
     "end_time": "2017-08-23T19:07:14.576301Z",
     "start_time": "2017-08-23T19:07:14.521922Z"
    }
   },
   "outputs": [
    {
     "data": {
      "text/latex": [
       "$$\\int_{x=a}^{b}{x + f(x)}$$"
      ],
      "text/plain": [
       "∫((x)+(x, f(x)), a, b)"
      ]
     },
     "execution_count": 4,
     "metadata": {},
     "output_type": "execute_result"
    }
   ],
   "source": [
    "integral(plus(x, f).abstract(x), a,b)"
   ]
  },
  {
   "cell_type": "code",
   "execution_count": 6,
   "metadata": {
    "ExecuteTime": {
     "end_time": "2017-08-23T19:07:14.639727Z",
     "start_time": "2017-08-23T19:07:14.583797Z"
    }
   },
   "outputs": [
    {
     "data": {
      "text/latex": [
       "$$x\\quad[x \\in y]$$"
      ],
      "text/plain": [
       "in(x, y)"
      ]
     },
     "execution_count": 6,
     "metadata": {},
     "output_type": "execute_result"
    }
   ],
   "source": [
    "from symbolize.expressions.extensions import InclusionExclusionSymbol\n",
    "InclusionExclusionSymbol('in', latex_repr=r'\\in').apply(x,y)"
   ]
  },
  {
   "cell_type": "markdown",
   "metadata": {},
   "source": [
    "# Natural numbers attempt #"
   ]
  },
  {
   "cell_type": "code",
   "execution_count": 8,
   "metadata": {},
   "outputs": [],
   "source": [
    "from symbolize.natural import NaturalNumber"
   ]
  },
  {
   "cell_type": "code",
   "execution_count": 9,
   "metadata": {
    "ExecuteTime": {
     "end_time": "2017-08-23T19:07:14.700410Z",
     "start_time": "2017-08-23T19:07:14.646767Z"
    }
   },
   "outputs": [
    {
     "data": {
      "text/latex": [
       "$$n\\quad[n \\in \\mathbb{N}]$$"
      ],
      "text/plain": [
       "∈(n, ℕ)"
      ]
     },
     "execution_count": 9,
     "metadata": {},
     "output_type": "execute_result"
    }
   ],
   "source": [
    "NaturalNumber('n')"
   ]
  },
  {
   "cell_type": "code",
   "execution_count": 10,
   "metadata": {
    "ExecuteTime": {
     "end_time": "2017-08-23T19:07:14.766911Z",
     "start_time": "2017-08-23T19:07:14.706745Z"
    }
   },
   "outputs": [
    {
     "data": {
      "text/latex": [
       "$$p\\quad[p \\in \\mathbb{N}]$$"
      ],
      "text/plain": [
       "∈(p, ℕ)"
      ]
     },
     "execution_count": 10,
     "metadata": {},
     "output_type": "execute_result"
    }
   ],
   "source": [
    "NaturalNumber('p')"
   ]
  },
  {
   "cell_type": "code",
   "execution_count": 11,
   "metadata": {
    "ExecuteTime": {
     "end_time": "2017-08-23T19:07:14.834565Z",
     "start_time": "2017-08-23T19:07:14.773332Z"
    }
   },
   "outputs": [
    {
     "data": {
      "text/latex": [
       "$$n + p\\quad[n, p \\in \\mathbb{N}]$$"
      ],
      "text/plain": [
       "+(∈(n, ℕ), ∈(p, ℕ))"
      ]
     },
     "execution_count": 11,
     "metadata": {},
     "output_type": "execute_result"
    }
   ],
   "source": [
    "n = NaturalNumber('n')\n",
    "p = NaturalNumber('p')\n",
    "plus.apply(n,p)"
   ]
  },
  {
   "cell_type": "code",
   "execution_count": 12,
   "metadata": {
    "ExecuteTime": {
     "end_time": "2017-08-23T19:07:14.897368Z",
     "start_time": "2017-08-23T19:07:14.840575Z"
    }
   },
   "outputs": [
    {
     "data": {
      "text/plain": [
       "[symbolize.expressions.expression.Symbol,\n",
       " symbolize.expressions.expression.Symbol]"
      ]
     },
     "execution_count": 12,
     "metadata": {},
     "output_type": "execute_result"
    }
   ],
   "source": [
    "[type(p) for p in p.children]"
   ]
  },
  {
   "cell_type": "markdown",
   "metadata": {},
   "source": [
    "# Basic expressions #"
   ]
  },
  {
   "cell_type": "code",
   "execution_count": 13,
   "metadata": {
    "ExecuteTime": {
     "end_time": "2017-08-23T19:07:14.964070Z",
     "start_time": "2017-08-23T19:07:14.904585Z"
    }
   },
   "outputs": [
    {
     "data": {
      "text/latex": [
       "$$\\sum_{x=a}^{b}{x + f(x)}$$"
      ],
      "text/plain": [
       "∑((x)+(x, f(x)), a, b)"
      ]
     },
     "execution_count": 13,
     "metadata": {},
     "output_type": "execute_result"
    }
   ],
   "source": [
    "sum_(plus(x, f).abstract(x), a,b)"
   ]
  },
  {
   "cell_type": "code",
   "execution_count": 14,
   "metadata": {
    "ExecuteTime": {
     "end_time": "2017-08-23T19:07:15.020662Z",
     "start_time": "2017-08-23T19:07:14.970881Z"
    }
   },
   "outputs": [
    {
     "data": {
      "text/latex": [
       "$$(a + b) + z$$"
      ],
      "text/plain": [
       "+(+(a, b), z)"
      ]
     },
     "execution_count": 14,
     "metadata": {},
     "output_type": "execute_result"
    }
   ],
   "source": [
    "plus(plus(a,b),z)"
   ]
  },
  {
   "cell_type": "code",
   "execution_count": 15,
   "metadata": {
    "ExecuteTime": {
     "end_time": "2017-08-23T19:07:15.076911Z",
     "start_time": "2017-08-23T19:07:15.028037Z"
    }
   },
   "outputs": [
    {
     "data": {
      "text/latex": [
       "$$z \\cdot (x + y)$$"
      ],
      "text/plain": [
       "⨯(z, +(x, y))"
      ]
     },
     "execution_count": 15,
     "metadata": {},
     "output_type": "execute_result"
    }
   ],
   "source": [
    "mult(z,plus(x, y))"
   ]
  },
  {
   "cell_type": "code",
   "execution_count": 16,
   "metadata": {
    "ExecuteTime": {
     "end_time": "2017-08-23T19:07:15.144604Z",
     "start_time": "2017-08-23T19:07:15.082467Z"
    }
   },
   "outputs": [
    {
     "data": {
      "text/latex": [
       "$$(x + y) \\cdot z$$"
      ],
      "text/plain": [
       "⨯(+(x, y), z)"
      ]
     },
     "execution_count": 16,
     "metadata": {},
     "output_type": "execute_result"
    }
   ],
   "source": [
    "mult(plus(x, y),z)"
   ]
  },
  {
   "cell_type": "code",
   "execution_count": 17,
   "metadata": {
    "ExecuteTime": {
     "end_time": "2017-08-23T19:07:15.309748Z",
     "start_time": "2017-08-23T19:07:15.298263Z"
    }
   },
   "outputs": [
    {
     "data": {
      "text/latex": [
       "$$x + y$$"
      ],
      "text/plain": [
       "+(x, y)"
      ]
     },
     "execution_count": 17,
     "metadata": {},
     "output_type": "execute_result"
    }
   ],
   "source": [
    "plus(x, y)"
   ]
  },
  {
   "cell_type": "code",
   "execution_count": 18,
   "metadata": {
    "ExecuteTime": {
     "end_time": "2017-08-23T19:08:01.722475Z",
     "start_time": "2017-08-23T19:08:01.712510Z"
    }
   },
   "outputs": [
    {
     "data": {
      "text/latex": [
       "$$λ(b).a(c)$$"
      ],
      "text/plain": [
       "(b)a(c)"
      ]
     },
     "execution_count": 18,
     "metadata": {},
     "output_type": "execute_result"
    }
   ],
   "source": [
    "Symbol('a').abstract(Symbol('b')).apply(Symbol('c'))"
   ]
  },
  {
   "cell_type": "code",
   "execution_count": 19,
   "metadata": {
    "ExecuteTime": {
     "end_time": "2017-08-23T19:07:15.785145Z",
     "start_time": "2017-08-23T19:07:15.728951Z"
    }
   },
   "outputs": [
    {
     "data": {
      "text/plain": [
       "'∑'"
      ]
     },
     "execution_count": 19,
     "metadata": {},
     "output_type": "execute_result"
    }
   ],
   "source": [
    "repr(sum_)"
   ]
  },
  {
   "cell_type": "markdown",
   "metadata": {},
   "source": [
    "# Arity #"
   ]
  },
  {
   "cell_type": "code",
   "execution_count": 20,
   "metadata": {
    "ExecuteTime": {
     "end_time": "2017-08-23T19:08:15.948561Z",
     "start_time": "2017-08-23T19:08:15.939198Z"
    }
   },
   "outputs": [
    {
     "data": {
      "text/plain": [
       "((∅ ⟶ ∅) ⨯ ∅ ⨯ ∅) ⟶ ∅"
      ]
     },
     "execution_count": 20,
     "metadata": {},
     "output_type": "execute_result"
    }
   ],
   "source": [
    "sum_.arity"
   ]
  },
  {
   "cell_type": "markdown",
   "metadata": {},
   "source": [
    "# imitate complex logical expression #"
   ]
  },
  {
   "cell_type": "markdown",
   "metadata": {},
   "source": [
    "![](BCWXS3E1CE7C2C1OQK5QCVVXNTUL54CS.png)"
   ]
  },
  {
   "cell_type": "code",
   "execution_count": 21,
   "metadata": {},
   "outputs": [
    {
     "data": {
      "text/latex": [
       "$$\\forall{n}.(\\exists{m}.(\\forall{(i \\geq m)}.(\\forall{(j \\geq m)}.((a + b) < (i / n)))))\\quad[n \\in \\mathbb{N}]$$"
      ],
      "text/plain": [
       "∀(∈(n, ℕ), ∃(m, ∀(≥(i, m), ∀(≥(j, m), <(+(a, b), /(i, ∈(n, ℕ)))))))"
      ]
     },
     "execution_count": 21,
     "metadata": {},
     "output_type": "execute_result"
    }
   ],
   "source": [
    "forall(n, exists(m, forall(geq(i,m),forall(geq(j,m),lt(plus(a,b),divide(i,n))))))"
   ]
  },
  {
   "cell_type": "code",
   "execution_count": null,
   "metadata": {},
   "outputs": [],
   "source": []
  }
 ],
 "metadata": {
  "celltoolbar": "Initialization Cell",
  "kernelspec": {
   "display_name": "lenv-20170702",
   "language": "python",
   "name": "python3"
  },
  "language_info": {
   "codemirror_mode": {
    "name": "ipython",
    "version": 3
   },
   "file_extension": ".py",
   "mimetype": "text/x-python",
   "name": "python",
   "nbconvert_exporter": "python",
   "pygments_lexer": "ipython3",
   "version": "3.6.1+"
  },
  "varInspector": {
   "cols": {
    "lenName": 16,
    "lenType": 16,
    "lenVar": 40
   },
   "kernels_config": {
    "python": {
     "delete_cmd_postfix": "",
     "delete_cmd_prefix": "del ",
     "library": "var_list.py",
     "varRefreshCmd": "print(var_dic_list())"
    },
    "r": {
     "delete_cmd_postfix": ") ",
     "delete_cmd_prefix": "rm(",
     "library": "var_list.r",
     "varRefreshCmd": "cat(var_dic_list()) "
    }
   },
   "types_to_exclude": [
    "module",
    "function",
    "builtin_function_or_method",
    "instance",
    "_Feature"
   ],
   "window_display": false
  }
 },
 "nbformat": 4,
 "nbformat_minor": 2
}
