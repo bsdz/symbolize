{
 "cells": [
  {
   "cell_type": "code",
   "execution_count": 1,
   "metadata": {
    "ExecuteTime": {
     "end_time": "2017-08-06T09:37:55.102724Z",
     "start_time": "2017-08-06T09:37:51.363900Z"
    },
    "collapsed": true
   },
   "outputs": [],
   "source": [
    "from IPython.display import display\n",
    "from importlib import reload\n",
    "import sys\n",
    "sys.path.insert(1,\"/home/bsdz/git/typetheory/typetheory\")\n",
    "from typetheory.expression import *\n",
    "from typetheory.definitions.integrals import integral, sum_\n",
    "from typetheory.definitions.operators import plus, mult, in_, geq, lt, pair, divide\n",
    "from typetheory.definitions.variables import x, y, z, a, b, c, n, m, i, j, k\n",
    "from typetheory.definitions.logic import forall, exists, and_, implies\n",
    "from typetheory.definitions.functions import fst, snd\n",
    "from typetheory.definitions.misc import lambda_\n",
    "from typetheory.logic.proposition import *\n",
    "from typetheory.logic.variables import A, B\n",
    "from typetheory.logic.proof import Argument"
   ]
  },
  {
   "cell_type": "markdown",
   "metadata": {},
   "source": [
    "![](BCWXS3E1CE7C2C1OQK5QCVVXNTUL54CS.png)"
   ]
  },
  {
   "cell_type": "code",
   "execution_count": 2,
   "metadata": {
    "ExecuteTime": {
     "end_time": "2017-08-06T09:37:55.289007Z",
     "start_time": "2017-08-06T09:37:55.110132Z"
    }
   },
   "outputs": [
    {
     "data": {
      "text/latex": [
       "$$\\forall(n).(\\exists(m).(\\forall((i \\geq m)).(\\forall((j \\geq m)).((a + b) < (i / n)))))$$"
      ],
      "text/plain": [
       "forall(n, exists(m, forall(>=(i, m), forall(>=(j, m), <(+(a, b), /(i, n))))))"
      ]
     },
     "execution_count": 2,
     "metadata": {},
     "output_type": "execute_result"
    }
   ],
   "source": [
    "forall(n, exists(m, forall(geq(i,m),forall(geq(j,m),lt(plus(a,b),divide(i,n))))))"
   ]
  },
  {
   "cell_type": "code",
   "execution_count": 3,
   "metadata": {
    "ExecuteTime": {
     "end_time": "2017-08-06T09:37:55.388576Z",
     "start_time": "2017-08-06T09:37:55.294293Z"
    }
   },
   "outputs": [
    {
     "data": {
      "text/latex": [
       "$$\\frac{p : A \\quad q : B}{p , q : A \\land B}$$"
      ],
      "text/plain": [
       "<typetheory.logic.proof.Argument at 0x7fa0ea59cf60>"
      ]
     },
     "execution_count": 3,
     "metadata": {},
     "output_type": "execute_result"
    }
   ],
   "source": [
    "p = A('p')\n",
    "q = B('q')\n",
    "r = conjunction_introduction(p,q)\n",
    "Argument([p,q], r)"
   ]
  },
  {
   "cell_type": "code",
   "execution_count": 4,
   "metadata": {
    "ExecuteTime": {
     "end_time": "2017-08-06T09:37:55.506466Z",
     "start_time": "2017-08-06T09:37:55.395595Z"
    }
   },
   "outputs": [
    {
     "data": {
      "text/latex": [
       "$$\\frac{p , q : A \\land B}{fst((p , q)) : A}$$"
      ],
      "text/plain": [
       "<typetheory.logic.proof.Argument at 0x7fa13d33b860>"
      ]
     },
     "execution_count": 4,
     "metadata": {},
     "output_type": "execute_result"
    }
   ],
   "source": [
    "Argument([r], conjunction_elimination_1(r)) "
   ]
  },
  {
   "cell_type": "code",
   "execution_count": 5,
   "metadata": {
    "ExecuteTime": {
     "end_time": "2017-08-06T09:37:55.520445Z",
     "start_time": "2017-08-06T09:37:55.511417Z"
    },
    "collapsed": true
   },
   "outputs": [],
   "source": [
    "A_and_B = get_proposition_class(and_(A.proposition_expr, B.proposition_expr))\n",
    "r = A_and_B('r')"
   ]
  },
  {
   "cell_type": "code",
   "execution_count": 6,
   "metadata": {
    "ExecuteTime": {
     "end_time": "2017-08-06T09:37:55.627835Z",
     "start_time": "2017-08-06T09:37:55.527450Z"
    }
   },
   "outputs": [
    {
     "data": {
      "text/latex": [
       "$$\\frac{r : A \\land B}{fst(r) : A}$$"
      ],
      "text/plain": [
       "<typetheory.logic.proof.Argument at 0x7fa124d7e2b0>"
      ]
     },
     "execution_count": 6,
     "metadata": {},
     "output_type": "execute_result"
    }
   ],
   "source": [
    "Argument([r], conjunction_elimination_1(r))"
   ]
  },
  {
   "cell_type": "code",
   "execution_count": 7,
   "metadata": {
    "ExecuteTime": {
     "end_time": "2017-08-06T09:37:55.712402Z",
     "start_time": "2017-08-06T09:37:55.634141Z"
    }
   },
   "outputs": [
    {
     "data": {
      "text/latex": [
       "$$\\frac{r : A \\land B}{snd(r) : B}$$"
      ],
      "text/plain": [
       "<typetheory.logic.proof.Argument at 0x7fa124d7eef0>"
      ]
     },
     "execution_count": 7,
     "metadata": {},
     "output_type": "execute_result"
    }
   ],
   "source": [
    "Argument([r], conjunction_elimination_2(r)) "
   ]
  },
  {
   "cell_type": "code",
   "execution_count": 8,
   "metadata": {
    "ExecuteTime": {
     "end_time": "2017-08-06T09:37:55.903918Z",
     "start_time": "2017-08-06T09:37:55.717755Z"
    }
   },
   "outputs": [
    {
     "data": {
      "text/latex": [
       "$$\\frac{\\frac{r : A \\land B}{fst(r) : A} \\quad \\frac{r : A \\land B}{snd(r) : B}}{snd(r) , fst(r) : B \\land A}$$"
      ],
      "text/plain": [
       "<typetheory.logic.proof.Argument at 0x7fa0ea59c550>"
      ]
     },
     "execution_count": 8,
     "metadata": {},
     "output_type": "execute_result"
    }
   ],
   "source": [
    "Argument([\n",
    "    Argument([r], conjunction_elimination_1(r)),\n",
    "    Argument([r], conjunction_elimination_2(r))\n",
    "],\n",
    "    conjunction_introduction(\n",
    "        conjunction_elimination_2(r),\n",
    "        conjunction_elimination_1(r)\n",
    "    )\n",
    ")"
   ]
  },
  {
   "cell_type": "code",
   "execution_count": 9,
   "metadata": {
    "ExecuteTime": {
     "end_time": "2017-08-06T09:37:55.997515Z",
     "start_time": "2017-08-06T09:37:55.909039Z"
    }
   },
   "outputs": [
    {
     "data": {
      "text/latex": [
       "$$\\frac{\\begin{matrix}\n",
       "            [x : A]\\\\\n",
       "            \\vdots\\\\\n",
       "            e : B\\\\\n",
       "            \\end{matrix}}{\\lambda(x).(e) : A \\Rightarrow B}(\\Rightarrow{I})$$"
      ],
      "text/plain": [
       "<typetheory.logic.proof.Argument at 0x7fa124d76400>"
      ]
     },
     "execution_count": 9,
     "metadata": {},
     "output_type": "execute_result"
    }
   ],
   "source": [
    "x = A('x')\n",
    "e = B('e')\n",
    "Argument([e], implication_introduction(x,e), discharges=[x], label=r\"\\Rightarrow{I}\")"
   ]
  },
  {
   "cell_type": "code",
   "execution_count": 10,
   "metadata": {
    "ExecuteTime": {
     "end_time": "2017-08-06T09:37:56.013182Z",
     "start_time": "2017-08-06T09:37:56.002727Z"
    },
    "collapsed": true
   },
   "outputs": [],
   "source": [
    "A_implies_B = get_proposition_class(implies(A.proposition_expr, B.proposition_expr))\n",
    "q = A_implies_B('q', arity=ArityArrow(A0,A0))\n",
    "a = A('a')"
   ]
  },
  {
   "cell_type": "code",
   "execution_count": 18,
   "metadata": {
    "ExecuteTime": {
     "end_time": "2017-08-06T15:01:33.399324Z",
     "start_time": "2017-08-06T15:01:33.374828Z"
    }
   },
   "outputs": [
    {
     "data": {
      "text/latex": [
       "$$q(a)$$"
      ],
      "text/plain": [
       "q(a)"
      ]
     },
     "execution_count": 18,
     "metadata": {},
     "output_type": "execute_result"
    }
   ],
   "source": [
    "implication_elimation(q,a).proof_expr"
   ]
  },
  {
   "cell_type": "code",
   "execution_count": 20,
   "metadata": {
    "ExecuteTime": {
     "end_time": "2017-08-06T15:10:25.036426Z",
     "start_time": "2017-08-06T15:10:25.023922Z"
    }
   },
   "outputs": [
    {
     "data": {
      "text/plain": [
       "0"
      ]
     },
     "execution_count": 20,
     "metadata": {},
     "output_type": "execute_result"
    }
   ],
   "source": [
    "implication_elimation(implication_introduction(x,e),a).proof_expr.arity"
   ]
  },
  {
   "cell_type": "code",
   "execution_count": 26,
   "metadata": {
    "ExecuteTime": {
     "end_time": "2017-08-06T15:11:56.188003Z",
     "start_time": "2017-08-06T15:11:56.149602Z"
    }
   },
   "outputs": [
    {
     "data": {
      "text/latex": [
       "$$\\lambda(b).(a(c))$$"
      ],
      "text/plain": [
       "(b)a(c)"
      ]
     },
     "execution_count": 26,
     "metadata": {},
     "output_type": "execute_result"
    }
   ],
   "source": [
    "Expression('a').abstract(Expression('b')).apply(Expression('c'))"
   ]
  },
  {
   "cell_type": "code",
   "execution_count": null,
   "metadata": {
    "collapsed": true
   },
   "outputs": [],
   "source": []
  }
 ],
 "metadata": {
  "kernelspec": {
   "display_name": "Python 3",
   "language": "python",
   "name": "python3"
  },
  "language_info": {
   "codemirror_mode": {
    "name": "ipython",
    "version": 3
   },
   "file_extension": ".py",
   "mimetype": "text/x-python",
   "name": "python",
   "nbconvert_exporter": "python",
   "pygments_lexer": "ipython3",
   "version": "3.6.1+"
  },
  "varInspector": {
   "cols": {
    "lenName": 16,
    "lenType": 16,
    "lenVar": 40
   },
   "kernels_config": {
    "python": {
     "delete_cmd_postfix": "",
     "delete_cmd_prefix": "del ",
     "library": "var_list.py",
     "varRefreshCmd": "print(var_dic_list())"
    },
    "r": {
     "delete_cmd_postfix": ") ",
     "delete_cmd_prefix": "rm(",
     "library": "var_list.r",
     "varRefreshCmd": "cat(var_dic_list()) "
    }
   },
   "types_to_exclude": [
    "module",
    "function",
    "builtin_function_or_method",
    "instance",
    "_Feature"
   ],
   "window_display": false
  }
 },
 "nbformat": 4,
 "nbformat_minor": 2
}
