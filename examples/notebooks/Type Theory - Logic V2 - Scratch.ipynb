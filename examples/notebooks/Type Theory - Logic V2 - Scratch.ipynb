{
 "cells": [
  {
   "cell_type": "code",
   "execution_count": 1,
   "metadata": {
    "ExecuteTime": {
     "end_time": "2017-08-23T19:38:17.154099Z",
     "start_time": "2017-08-23T19:38:14.537937Z"
    }
   },
   "outputs": [],
   "source": [
    "import sys\n",
    "sys.path.insert(1, \"../..\")\n",
    "from symbolize.logic.argument import Argument\n",
    "from symbolize.logic.typetheory.proposition import *\n",
    "from symbolize.logic.typetheory.proof import *\n",
    "from symbolize.logic.typetheory.variables import A, B, C, Verum, Falsum"
   ]
  },
  {
   "cell_type": "markdown",
   "metadata": {},
   "source": [
    "# conjunction #\n",
    "## intro ##"
   ]
  },
  {
   "cell_type": "code",
   "execution_count": 2,
   "metadata": {},
   "outputs": [
    {
     "data": {
      "text/latex": [
       "$$\\frac{p : A \\quad q : B}{p, q : A \\land B}$$"
      ],
      "text/plain": [
       "<symbolize.logic.argument.Argument at 0x7f241863c898>"
      ]
     },
     "execution_count": 2,
     "metadata": {},
     "output_type": "execute_result"
    }
   ],
   "source": [
    "p = A.get_proof('p')\n",
    "q = B.get_proof('q')\n",
    "r = ProofExpressionCombination(p,q)\n",
    "Argument([p,q], r)"
   ]
  },
  {
   "cell_type": "markdown",
   "metadata": {},
   "source": [
    "## elimination ##"
   ]
  },
  {
   "cell_type": "code",
   "execution_count": 4,
   "metadata": {},
   "outputs": [
    {
     "data": {
      "text/latex": [
       "$$\\frac{p, q : A \\land B}{fst(p, q) : A}$$"
      ],
      "text/plain": [
       "<symbolize.logic.argument.Argument at 0x7f5a8c2fa860>"
      ]
     },
     "execution_count": 4,
     "metadata": {},
     "output_type": "execute_result"
    }
   ],
   "source": [
    "Argument([r], fst(r))"
   ]
  },
  {
   "cell_type": "code",
   "execution_count": 5,
   "metadata": {},
   "outputs": [
    {
     "data": {
      "text/latex": [
       "$$\\frac{r : A \\land B}{fst(r) : A}$$"
      ],
      "text/plain": [
       "<symbolize.logic.argument.Argument at 0x7f5a8c30d860>"
      ]
     },
     "execution_count": 5,
     "metadata": {},
     "output_type": "execute_result"
    }
   ],
   "source": [
    "A_and_B = and_(A, B)\n",
    "r = A_and_B.get_proof('r')\n",
    "Argument([r], fst(r))"
   ]
  },
  {
   "cell_type": "code",
   "execution_count": 6,
   "metadata": {},
   "outputs": [
    {
     "data": {
      "text/latex": [
       "$$snd(r) : B$$"
      ],
      "text/plain": [
       "snd(r)"
      ]
     },
     "execution_count": 6,
     "metadata": {},
     "output_type": "execute_result"
    }
   ],
   "source": [
    "snd(r)"
   ]
  },
  {
   "cell_type": "markdown",
   "metadata": {},
   "source": [
    "## from $A \\lor B$ deduce $B \\lor A$ ##"
   ]
  },
  {
   "cell_type": "code",
   "execution_count": 8,
   "metadata": {},
   "outputs": [
    {
     "data": {
      "text/latex": [
       "$$\\frac{\\frac{r : A \\land B}{fst(r) : A} \\quad \\frac{r : A \\land B}{snd(r) : B}}{fst(r), snd(r) : A \\land B}$$"
      ],
      "text/plain": [
       "<symbolize.logic.argument.Argument at 0x7f5a8c321d68>"
      ]
     },
     "execution_count": 8,
     "metadata": {},
     "output_type": "execute_result"
    }
   ],
   "source": [
    "Argument([\n",
    "    Argument([r], fst(r)),\n",
    "    Argument([r], snd(r))\n",
    "],\n",
    "    ProofExpressionCombination(\n",
    "        fst(r),\n",
    "        snd(r)\n",
    "    )\n",
    ")"
   ]
  },
  {
   "cell_type": "markdown",
   "metadata": {},
   "source": [
    "# implication #\n",
    "## intro ##"
   ]
  },
  {
   "cell_type": "code",
   "execution_count": 9,
   "metadata": {
    "ExecuteTime": {
     "end_time": "2017-08-23T19:25:22.696304Z",
     "start_time": "2017-08-23T19:25:22.632030Z"
    }
   },
   "outputs": [
    {
     "data": {
      "text/latex": [
       "$$\\frac{\\begin{matrix}\n",
       "            [x : A]\\\\\n",
       "            \\vdots\\\\\n",
       "            e : B\\\\\n",
       "            \\end{matrix}}{λ(x).e : A \\Rightarrow B}(\\Rightarrow{I})$$"
      ],
      "text/plain": [
       "<symbolize.logic.argument.Argument at 0x7f5a8c325e80>"
      ]
     },
     "execution_count": 9,
     "metadata": {},
     "output_type": "execute_result"
    }
   ],
   "source": [
    "x = A.get_proof('x')\n",
    "e = B.get_proof('e')\n",
    "Argument([e], e.abstract(x), discharges=[x], label=r\"\\Rightarrow{I}\")"
   ]
  },
  {
   "cell_type": "markdown",
   "metadata": {},
   "source": [
    "## elimination ##"
   ]
  },
  {
   "cell_type": "code",
   "execution_count": 21,
   "metadata": {},
   "outputs": [
    {
     "data": {
      "text/latex": [
       "$$q(a) : B$$"
      ],
      "text/plain": [
       "q(a)"
      ]
     },
     "execution_count": 21,
     "metadata": {},
     "output_type": "execute_result"
    }
   ],
   "source": [
    "A_implies_B = implies(A, B)\n",
    "q = A_implies_B.get_proof('q')\n",
    "a = A.get_proof('a')\n",
    "q(a)"
   ]
  },
  {
   "cell_type": "markdown",
   "metadata": {},
   "source": [
    "# disjunction #\n",
    "## intro ##"
   ]
  },
  {
   "cell_type": "code",
   "execution_count": 13,
   "metadata": {
    "ExecuteTime": {
     "end_time": "2017-08-23T19:38:22.301103Z",
     "start_time": "2017-08-23T19:38:22.273712Z"
    }
   },
   "outputs": [
    {
     "data": {
      "text/latex": [
       "$$inl(q, B) : A \\lor B$$"
      ],
      "text/plain": [
       "inl(q, B)"
      ]
     },
     "execution_count": 13,
     "metadata": {},
     "output_type": "execute_result"
    }
   ],
   "source": [
    "q = A.get_proof('q')\n",
    "inl(q, B)"
   ]
  },
  {
   "cell_type": "code",
   "execution_count": 14,
   "metadata": {
    "ExecuteTime": {
     "end_time": "2017-08-23T19:38:27.260731Z",
     "start_time": "2017-08-23T19:38:27.249869Z"
    }
   },
   "outputs": [
    {
     "data": {
      "text/latex": [
       "$$inr(r, A) : A \\lor B$$"
      ],
      "text/plain": [
       "inr(r, A)"
      ]
     },
     "execution_count": 14,
     "metadata": {},
     "output_type": "execute_result"
    }
   ],
   "source": [
    "r = B.get_proof('r')\n",
    "inr(r, A)"
   ]
  },
  {
   "cell_type": "code",
   "execution_count": 16,
   "metadata": {
    "ExecuteTime": {
     "end_time": "2017-08-23T19:31:33.369603Z",
     "start_time": "2017-08-23T19:31:33.358440Z"
    }
   },
   "outputs": [
    {
     "data": {
      "text/plain": [
       "∅"
      ]
     },
     "execution_count": 16,
     "metadata": {},
     "output_type": "execute_result"
    }
   ],
   "source": [
    "B.arity"
   ]
  },
  {
   "cell_type": "markdown",
   "metadata": {},
   "source": [
    "# Identity #"
   ]
  },
  {
   "cell_type": "code",
   "execution_count": 17,
   "metadata": {},
   "outputs": [
    {
     "data": {
      "text/latex": [
       "$$\\frac{\\begin{matrix}\n",
       "            [x : A]\\\\\n",
       "            \\vdots\\\\\n",
       "            x : A\\\\\n",
       "            \\end{matrix}}{λ(x).x : A \\Rightarrow A}(\\Rightarrow{I})$$"
      ],
      "text/plain": [
       "<symbolize.logic.argument.Argument at 0x7f5a8c312b38>"
      ]
     },
     "execution_count": 17,
     "metadata": {},
     "output_type": "execute_result"
    }
   ],
   "source": [
    "Argument([x], x.abstract(x), discharges=[x], label=r\"\\Rightarrow{I}\")"
   ]
  },
  {
   "cell_type": "markdown",
   "metadata": {},
   "source": [
    "## from $A \\Rightarrow B$ and $B \\Rightarrow C$ deduce $A \\Rightarrow C$ ##"
   ]
  },
  {
   "cell_type": "code",
   "execution_count": 3,
   "metadata": {},
   "outputs": [],
   "source": [
    "A_implies_B = implies(A, B)\n",
    "B_implies_C = implies(B, C)\n",
    "a = A_implies_B.get_proof('a')\n",
    "b = B_implies_C.get_proof('b')\n",
    "x = A.get_proof('x')"
   ]
  },
  {
   "cell_type": "code",
   "execution_count": 4,
   "metadata": {},
   "outputs": [
    {
     "data": {
      "text/latex": [
       "$$\\frac{x : A \\quad a : A \\Rightarrow B}{a(x) : B}$$"
      ],
      "text/plain": [
       "<symbolize.logic.argument.Argument at 0x7f241865bf60>"
      ]
     },
     "execution_count": 4,
     "metadata": {},
     "output_type": "execute_result"
    }
   ],
   "source": [
    "Argument([x, a], a(x))"
   ]
  },
  {
   "cell_type": "code",
   "execution_count": 8,
   "metadata": {},
   "outputs": [
    {
     "data": {
      "text/latex": [
       "$$\\frac{\\frac{\\frac{x : A \\quad a : A \\Rightarrow B}{a(x) : B} \\quad b : B \\Rightarrow C}{b(a(x)) : C} \\quad x : A}{λ(x).(b(a(x))) : A \\Rightarrow C}$$"
      ],
      "text/plain": [
       "<symbolize.logic.argument.Argument at 0x7f241856f4a8>"
      ]
     },
     "execution_count": 8,
     "metadata": {},
     "output_type": "execute_result"
    }
   ],
   "source": [
    "arg1 = Argument([x, a], a(x))\n",
    "arg2 = Argument([arg1, b], b(arg1.conclusion))\n",
    "arg3 = Argument([arg2, x], arg2.conclusion.abstract(x))\n",
    "#arg4 = Argument([arg2, x], implication_introduction(b, arg3.conclusion))\n",
    "#arg5 = Argument([arg2, x], implication_introduction(a, arg4.conclusion))\n",
    "arg3"
   ]
  },
  {
   "cell_type": "code",
   "execution_count": 9,
   "metadata": {},
   "outputs": [
    {
     "data": {
      "text/plain": [
       "symbolize.logic.typetheory.proof.ProofApplicationExpression"
      ]
     },
     "execution_count": 9,
     "metadata": {},
     "output_type": "execute_result"
    }
   ],
   "source": [
    "type(arg2.conclusion)"
   ]
  },
  {
   "cell_type": "code",
   "execution_count": 15,
   "metadata": {},
   "outputs": [
    {
     "data": {
      "text/latex": [
       "$$(A \\Rightarrow B) \\Rightarrow ((B \\Rightarrow ⟘) \\Rightarrow (A \\Rightarrow ⟘))$$"
      ],
      "text/plain": [
       "⟹(⟹(A, B), ⟹(⟹(B, ⟘), ⟹(A, ⟘)))"
      ]
     },
     "execution_count": 15,
     "metadata": {},
     "output_type": "execute_result"
    }
   ],
   "source": [
    "arg5.conclusion.proposition_expr.substitute(C.proposition_expr, Falsum.proposition_expr)"
   ]
  },
  {
   "cell_type": "code",
   "execution_count": 16,
   "metadata": {},
   "outputs": [
    {
     "data": {
      "text/latex": [
       "$$(A \\Rightarrow B) \\Rightarrow ((\\neg(B)) \\Rightarrow (\\neg(A)))$$"
      ],
      "text/plain": [
       "⟹(⟹(A, B), ⟹(¬(B), ¬(A)))"
      ]
     },
     "execution_count": 16,
     "metadata": {},
     "output_type": "execute_result"
    }
   ],
   "source": [
    "foo = arg5.conclusion.proposition_expr.substitute(C.proposition_expr, Falsum.proposition_expr).copy()\n",
    "def my_sub(wr):\n",
    "    if type(wr.expr) is BinaryInfixExpression and wr.expr.base == implies and wr.expr.children[1] == Falsum.proposition_expr:\n",
    "        wr.obj[wr.index] = not_(wr.expr.children[0])\n",
    "foo.walk(my_sub)\n",
    "foo"
   ]
  },
  {
   "cell_type": "markdown",
   "metadata": {},
   "source": [
    "# $((A \\lor B) \\Rightarrow C) \\Rightarrow ((A \\Rightarrow C) \\land (B \\Rightarrow C))$#"
   ]
  },
  {
   "cell_type": "code",
   "execution_count": 17,
   "metadata": {},
   "outputs": [],
   "source": [
    "A_or_B_implies_C = get_proposition_class(implies(or_(A.proposition_expr, B.proposition_expr), C.proposition_expr))\n",
    "y = A_or_B_implies_C('y', arity=ArityArrow(A0,A0))\n",
    "x = A('x')\n",
    "w = B('w')"
   ]
  },
  {
   "cell_type": "code",
   "execution_count": 18,
   "metadata": {},
   "outputs": [
    {
     "data": {
      "text/latex": [
       "$$\\frac{\\frac{\\frac{\\frac{x : A}{inl(x) : A \\lor B} \\quad y : (A \\lor B) \\Rightarrow C}{y(inl(x)) : C}}{λ(x).(y(inl(x))) : A \\Rightarrow C} \\quad \\frac{\\frac{\\frac{w : B}{inr(w) : A \\lor B} \\quad y : (A \\lor B) \\Rightarrow C}{y(inr(w)) : C}}{λ(w).(y(inr(w))) : B \\Rightarrow C}}{λ(x).(y(inl(x))), λ(w).(y(inr(w))) : (A \\Rightarrow C) \\land (B \\Rightarrow C)}$$"
      ],
      "text/plain": [
       "<typetheory.logic.proof.Argument at 0x7fe3803f6438>"
      ]
     },
     "execution_count": 18,
     "metadata": {},
     "output_type": "execute_result"
    }
   ],
   "source": [
    "arg1 = Argument([x], disjunction_introduction_1(x, B))\n",
    "arg2 = Argument([arg1, y], implication_elimation(y, arg1.conclusion))\n",
    "arg3 = Argument([arg2], implication_introduction(x, arg2.conclusion))\n",
    "\n",
    "arg4 = Argument([w], disjunction_introduction_2(w, A))\n",
    "arg5 = Argument([arg4, y], implication_elimation(y, arg4.conclusion))\n",
    "arg6 = Argument([arg5], implication_introduction(w, arg5.conclusion))\n",
    "\n",
    "arg7 = Argument([arg3, arg6], conjunction_introduction(arg3.conclusion, arg6.conclusion))\n",
    "arg7"
   ]
  },
  {
   "cell_type": "code",
   "execution_count": 19,
   "metadata": {},
   "outputs": [
    {
     "data": {
      "text/latex": [
       "$$λ(y).λ(x).(y(inl(x))), λ(w).(y(inr(w))) : ((A \\lor B) \\Rightarrow C) \\Rightarrow ((A \\Rightarrow C) \\land (B \\Rightarrow C))$$"
      ],
      "text/plain": [
       "<typetheory.logic.proposition.⟹(⟹(∨(A, B), C), ∧(⟹(A, C), ⟹(B, C))) at 0x7fe3804cb7b8>"
      ]
     },
     "execution_count": 19,
     "metadata": {},
     "output_type": "execute_result"
    }
   ],
   "source": [
    "implication_introduction(y, arg7.conclusion)"
   ]
  },
  {
   "cell_type": "markdown",
   "metadata": {},
   "source": [
    "# $((A \\lor B) \\Rightarrow C) \\Leftarrow ((A \\Rightarrow C) \\land (B \\Rightarrow C))$#"
   ]
  },
  {
   "cell_type": "code",
   "execution_count": 20,
   "metadata": {},
   "outputs": [],
   "source": [
    "A_or_B = get_proposition_class(or_(A.proposition_expr, B.proposition_expr))\n",
    "A_implies_C_or_B_implies_C = get_proposition_class(or_(implies(A.proposition_expr, C.proposition_expr),implies(B.proposition_expr, C.proposition_expr)))\n",
    "z = A_or_B('z')\n",
    "p = A_implies_C_or_B_implies_C('p', arity=ArityCross(A0,A0))"
   ]
  },
  {
   "cell_type": "code",
   "execution_count": 21,
   "metadata": {},
   "outputs": [
    {
     "data": {
      "text/latex": [
       "$$fst(p)$$"
      ],
      "text/plain": [
       "fst(p)"
      ]
     },
     "execution_count": 21,
     "metadata": {},
     "output_type": "execute_result"
    }
   ],
   "source": [
    "fst(p.proof_expr)"
   ]
  },
  {
   "cell_type": "code",
   "execution_count": 22,
   "metadata": {},
   "outputs": [
    {
     "data": {
      "text/latex": [
       "$$snd(p)$$"
      ],
      "text/plain": [
       "snd(p)"
      ]
     },
     "execution_count": 22,
     "metadata": {},
     "output_type": "execute_result"
    }
   ],
   "source": [
    "snd(p.proof_expr)"
   ]
  },
  {
   "cell_type": "code",
   "execution_count": null,
   "metadata": {},
   "outputs": [],
   "source": []
  }
 ],
 "metadata": {
  "kernelspec": {
   "display_name": "lenv-20170702",
   "language": "python",
   "name": "python3"
  },
  "language_info": {
   "codemirror_mode": {
    "name": "ipython",
    "version": 3
   },
   "file_extension": ".py",
   "mimetype": "text/x-python",
   "name": "python",
   "nbconvert_exporter": "python",
   "pygments_lexer": "ipython3",
   "version": "3.6.1+"
  },
  "varInspector": {
   "cols": {
    "lenName": 16,
    "lenType": 16,
    "lenVar": 40
   },
   "kernels_config": {
    "python": {
     "delete_cmd_postfix": "",
     "delete_cmd_prefix": "del ",
     "library": "var_list.py",
     "varRefreshCmd": "print(var_dic_list())"
    },
    "r": {
     "delete_cmd_postfix": ") ",
     "delete_cmd_prefix": "rm(",
     "library": "var_list.r",
     "varRefreshCmd": "cat(var_dic_list()) "
    }
   },
   "types_to_exclude": [
    "module",
    "function",
    "builtin_function_or_method",
    "instance",
    "_Feature"
   ],
   "window_display": false
  }
 },
 "nbformat": 4,
 "nbformat_minor": 2
}
